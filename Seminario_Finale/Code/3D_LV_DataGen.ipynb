{
 "cells": [
  {
   "cell_type": "markdown",
   "id": "022f6c2b",
   "metadata": {},
   "source": [
    "# Importo Pacchetti"
   ]
  },
  {
   "cell_type": "code",
   "execution_count": 1,
   "id": "0dd630f1",
   "metadata": {},
   "outputs": [],
   "source": [
    "import numpy as np\n",
    "import os\n",
    "import importlib\n",
    "%matplotlib inline\n",
    "import matplotlib.pyplot as plt\n",
    "import matplotlib.cm as cm\n",
    "from scipy.optimize import curve_fit\n",
    "from scipy.integrate import solve_ivp\n",
    "from scipy.integrate import odeint\n",
    "from numba import jit\n",
    "import nolds\n",
    "import sys\n",
    "sys.path.insert(0,'./fortran_package/') # carico la directory con i pacchetti\n",
    "import maps\n",
    "from mpl_toolkits.mplot3d import Axes3D  # noqa: F401 unused import\n",
    "import plotly.graph_objects as go\n",
    "import plotly.io as pio\n",
    "import ComputeLE\n",
    "from numba import jit, njit\n",
    "import time"
   ]
  },
  {
   "cell_type": "code",
   "execution_count": 2,
   "id": "94bffc1e",
   "metadata": {},
   "outputs": [
    {
     "data": {
      "text/plain": [
       "<module 'maps' from '/home/edo/Università/DNL/Seminario_Finale/Code/./fortran_package/maps.cpython-38-x86_64-linux-gnu.so'>"
      ]
     },
     "execution_count": 2,
     "metadata": {},
     "output_type": "execute_result"
    }
   ],
   "source": [
    "importlib.reload(maps)"
   ]
  },
  {
   "cell_type": "markdown",
   "id": "308eaa12",
   "metadata": {},
   "source": [
    "# Simulo la dinamica"
   ]
  },
  {
   "cell_type": "markdown",
   "id": "3e173335",
   "metadata": {},
   "source": [
    "## Esponenti di Lyapunov"
   ]
  },
  {
   "cell_type": "code",
   "execution_count": 3,
   "id": "74366315",
   "metadata": {},
   "outputs": [],
   "source": [
    "@njit\n",
    "def LV(t, val, a, r):\n",
    "    \"\"\"\n",
    "    Questa funzione definisce gli incrementi secondo il formato utile a 'solve_ivp' di scykit_learn.\n",
    "    \"\"\"\n",
    "    ss = [np.sum((np.ones(len(val)) - val) * a[i]) for i in range(len(a))]\n",
    "    diff = [r[i] * val[i] * ss[i]  for i in range(len(r))]\n",
    "    return np.array(diff)\n",
    "\n",
    "@njit\n",
    "def RK4(f, x, t1, t2, a, r):\n",
    "    \"\"\"\n",
    "    Fourth-order, 4-step RK routine.\n",
    "    Returns the step, i.e. approximation to the integral.\n",
    "    If x is defined at time t_1, then stim should be an array of\n",
    "    stimulus values at times t_1, (t_1+t_2)/2, and t_2 (i.e. at t1 and t2, as\n",
    "    well as at the midpoint).\n",
    "    Alternatively, stim may be a function pointer.\n",
    "    \"\"\"\n",
    "    tmid = (t1 + t2)/2\n",
    "    dt = t2 - t1\n",
    "\n",
    "    K1 = f(t1, x, a, r)\n",
    "    K2 = f(tmid, x + dt*K1/2, a, r)\n",
    "    K3 = f(tmid, x + dt*K2/2, a, r)\n",
    "    K4 = f(t2, x + dt*K3, a, r)\n",
    "\n",
    "    return dt * (K1/2 + K2 + K3 + K4/2) / 3\n",
    "\n",
    "@njit\n",
    "def motion(f, t, x, a, r):\n",
    "    for i,(t1,t2) in enumerate(zip(t[:-1], t[1:])):\n",
    "        x[i+1] = x[i] + RK4(f, x[i], t1, t2, a, r)\n",
    "    return x"
   ]
  },
  {
   "cell_type": "code",
   "execution_count": 4,
   "id": "baffd060",
   "metadata": {},
   "outputs": [],
   "source": [
    "@jit\n",
    "def sim_mu(mu, init = np.array([0.3, 0.3, 0.3]), n = 20000, tot_t = 2000, term = False):\n",
    "    t = np.linspace(0, tot_t, n)\n",
    "    # Parameters\n",
    "    a = np.array([[0.5,   0.5, 0.1],\n",
    "                  [-0.5, -0.1, 0.1],\n",
    "                  [  mu,  0.1, 0.1]])\n",
    "    r = np.array([1, 1, 1])\n",
    "    param = [a, r]\n",
    "    x = np.ones((n, 3))*init\n",
    "    if term: \n",
    "        x = motion(LV, t, x, a, r)\n",
    "        x[0] = x[-1]\n",
    "    x = motion(LV, t, x, a, r)\n",
    "    xx = x[:,0]\n",
    "    yy = x[:,1]\n",
    "    zz = x[:,2]\n",
    "    return xx, yy, zz"
   ]
  },
  {
   "cell_type": "code",
   "execution_count": 21,
   "id": "7d23d819",
   "metadata": {},
   "outputs": [],
   "source": [
    "def writefiles(n_files = 10):\n",
    "    mus = np.linspace(1.2, 1.65, n_files) \n",
    "    init = np.array([1., 1., 0.99])\n",
    "    for i, mu in enumerate(mus):\n",
    "        xx, yy, zz = sim_mu(mu, init = init,  n = 50000, tot_t=500, term = False)\n",
    "        np.savetxt(f'data/frames/sim{i}.txt', (xx, yy, zz))"
   ]
  },
  {
   "cell_type": "code",
   "execution_count": 22,
   "id": "850ed233",
   "metadata": {
    "scrolled": true
   },
   "outputs": [
    {
     "name": "stdout",
     "output_type": "stream",
     "text": [
      "21.501333236694336\n"
     ]
    }
   ],
   "source": [
    "start = time.time()\n",
    "writefiles(100)\n",
    "print(time.time()-start)"
   ]
  }
 ],
 "metadata": {
  "kernelspec": {
   "display_name": "Python 3",
   "language": "python",
   "name": "python3"
  },
  "language_info": {
   "codemirror_mode": {
    "name": "ipython",
    "version": 3
   },
   "file_extension": ".py",
   "mimetype": "text/x-python",
   "name": "python",
   "nbconvert_exporter": "python",
   "pygments_lexer": "ipython3",
   "version": "3.8.10"
  },
  "toc": {
   "base_numbering": 1,
   "nav_menu": {},
   "number_sections": true,
   "sideBar": true,
   "skip_h1_title": false,
   "title_cell": "Table of Contents",
   "title_sidebar": "Contents",
   "toc_cell": false,
   "toc_position": {},
   "toc_section_display": true,
   "toc_window_display": false
  }
 },
 "nbformat": 4,
 "nbformat_minor": 5
}
