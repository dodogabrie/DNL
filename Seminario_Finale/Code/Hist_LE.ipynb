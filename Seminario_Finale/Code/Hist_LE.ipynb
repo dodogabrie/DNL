{
 "cells": [
  {
   "cell_type": "code",
   "execution_count": 1,
   "id": "6e55b0cb",
   "metadata": {},
   "outputs": [
    {
     "data": {
      "text/plain": [
       "<module 'ComputeLE' from '/home/edo/Università/DNL/Seminario_Finale/Code/ComputeLE.py'>"
      ]
     },
     "execution_count": 1,
     "metadata": {},
     "output_type": "execute_result"
    }
   ],
   "source": [
    "import numpy as np\n",
    "import os\n",
    "import importlib\n",
    "%matplotlib inline\n",
    "import matplotlib.pyplot as plt\n",
    "import matplotlib.cm as cm\n",
    "from scipy.optimize import curve_fit\n",
    "from scipy.integrate import solve_ivp\n",
    "from scipy.integrate import odeint\n",
    "from numba import jit\n",
    "import nolds\n",
    "import sys\n",
    "sys.path.insert(0,'./fortran_package/') # carico la directory con i pacchetti\n",
    "import maps\n",
    "from mpl_toolkits.mplot3d import Axes3D  # noqa: F401 unused import\n",
    "import plotly.express as px\n",
    "import plotly.io as pio\n",
    "import ComputeLE\n",
    "import time\n",
    "importlib.reload(ComputeLE)"
   ]
  },
  {
   "cell_type": "code",
   "execution_count": 2,
   "id": "e9bc9073",
   "metadata": {},
   "outputs": [
    {
     "name": "stdout",
     "output_type": "stream",
     "text": [
      "56.045082330703735\n"
     ]
    }
   ],
   "source": [
    "def big_les():\n",
    "    importlib.reload(ComputeLE)\n",
    "    init = np.array([0.3, 0.3, 0.1, 0.3])\n",
    "    n = 10000\n",
    "    ttrans = np.linspace(0, 20000, n)\n",
    "    t = np.linspace(0, 1000, n)\n",
    "    start = time.time()\n",
    "    LE, dead = ComputeLE.maximal_le(init, t, ttrans=ttrans, n = 1000, \n",
    "                                    seed=np.random.randint(0, 100), early_stopping=True)\n",
    "    print(time.time()-start)\n",
    "    return LE, dead\n",
    "LE, dead = big_les()"
   ]
  },
  {
   "cell_type": "code",
   "execution_count": 13,
   "id": "40cc4d35",
   "metadata": {},
   "outputs": [],
   "source": [
    "#np.savetxt('data/MaxLE.txt', LE)"
   ]
  },
  {
   "cell_type": "code",
   "execution_count": 4,
   "id": "c0ad7fb4",
   "metadata": {},
   "outputs": [],
   "source": [
    "def view():\n",
    "    x = np.loadtxt('data/MaxLE.txt')\n",
    "    fig = px.histogram(x, nbins=1000)\n",
    "    fig.update_layout( \n",
    "        title=\"Distribuzione del massimo esponente di Lyapunov\",\n",
    "        xaxis_title=\"Max LE\",\n",
    "        yaxis_title=\"Count\",\n",
    "    )\n",
    "    fig.show()\n",
    "#view()"
   ]
  }
 ],
 "metadata": {
  "kernelspec": {
   "display_name": "Python 3",
   "language": "python",
   "name": "python3"
  },
  "language_info": {
   "codemirror_mode": {
    "name": "ipython",
    "version": 3
   },
   "file_extension": ".py",
   "mimetype": "text/x-python",
   "name": "python",
   "nbconvert_exporter": "python",
   "pygments_lexer": "ipython3",
   "version": "3.8.6"
  },
  "toc": {
   "base_numbering": 1,
   "nav_menu": {},
   "number_sections": true,
   "sideBar": true,
   "skip_h1_title": false,
   "title_cell": "Table of Contents",
   "title_sidebar": "Contents",
   "toc_cell": false,
   "toc_position": {},
   "toc_section_display": true,
   "toc_window_display": false
  }
 },
 "nbformat": 4,
 "nbformat_minor": 5
}
