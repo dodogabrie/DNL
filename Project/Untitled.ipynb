{
 "cells": [
  {
   "cell_type": "code",
   "execution_count": 1,
   "id": "b0f299b4",
   "metadata": {},
   "outputs": [],
   "source": [
    "import numpy as np"
   ]
  },
  {
   "cell_type": "code",
   "execution_count": 74,
   "id": "55c9602c",
   "metadata": {},
   "outputs": [],
   "source": [
    "N = 100\n",
    "M0 = 10\n",
    "M1 = 10 \n",
    "N0 = 10\n",
    "N1 = 10\n",
    "f0 = np.linspace(0, M0, N0)\n",
    "f0 = np.linspace(0, M1, N1)\n",
    "phi = np.arange(0, 10)"
   ]
  },
  {
   "cell_type": "code",
   "execution_count": 75,
   "id": "9b8ea106",
   "metadata": {},
   "outputs": [
    {
     "name": "stdout",
     "output_type": "stream",
     "text": [
      "Passed vec_phi:\n",
      "[0 1 2 3 4 5 6 7 8 9]\n",
      "\n",
      "Build Matrix of k:\n",
      "[[1 1 1 1 1 1 1 1 1 1]\n",
      " [2 2 2 2 2 2 2 2 2 2]\n",
      " [3 3 3 3 3 3 3 3 3 3]\n",
      " [4 4 4 4 4 4 4 4 4 4]\n",
      " [5 5 5 5 5 5 5 5 5 5]\n",
      " [6 6 6 6 6 6 6 6 6 6]\n",
      " [7 7 7 7 7 7 7 7 7 7]\n",
      " [8 8 8 8 8 8 8 8 8 8]]\n",
      "\n",
      "Multiply k*vec_phi:\n",
      "[[ 0  1  2  3  4  5  6  7  8  9]\n",
      " [ 0  2  4  6  8 10 12 14 16 18]\n",
      " [ 0  3  6  9 12 15 18 21 24 27]\n",
      " [ 0  4  8 12 16 20 24 28 32 36]\n",
      " [ 0  5 10 15 20 25 30 35 40 45]\n",
      " [ 0  6 12 18 24 30 36 42 48 54]\n",
      " [ 0  7 14 21 28 35 42 49 56 63]\n",
      " [ 0  8 16 24 32 40 48 56 64 72]]\n",
      "\n",
      "Elevation of every element at power 2:\n",
      "[[   0    1    4    9   16   25   36   49   64   81]\n",
      " [   0    4   16   36   64  100  144  196  256  324]\n",
      " [   0    9   36   81  144  225  324  441  576  729]\n",
      " [   0   16   64  144  256  400  576  784 1024 1296]\n",
      " [   0   25  100  225  400  625  900 1225 1600 2025]\n",
      " [   0   36  144  324  576  900 1296 1764 2304 2916]\n",
      " [   0   49  196  441  784 1225 1764 2401 3136 3969]\n",
      " [   0   64  256  576 1024 1600 2304 3136 4096 5184]]\n",
      "\n",
      "Sum on rows:\n",
      "[  285  1140  2565  4560  7125 10260 13965 18240]\n"
     ]
    },
    {
     "data": {
      "text/plain": [
       "58140"
      ]
     },
     "execution_count": 75,
     "metadata": {},
     "output_type": "execute_result"
    }
   ],
   "source": [
    "def inner_func(x):\n",
    "    return x**2\n",
    "\n",
    "def inner_sum(vec_phi):\n",
    "    print('Passed vec_phi:')\n",
    "    print(vec_phi)\n",
    "    k = np.tile(np.arange(1, 9), (len(vec_phi), 1)).T\n",
    "    print('\\nBuild Matrix of k:')\n",
    "    print(k)\n",
    "    in_prod = k*vec_phi\n",
    "    print('\\nMultiply k*vec_phi:')\n",
    "    print(in_prod)\n",
    "    print('\\nElevation of every element at power 2:')\n",
    "    inner_values = inner_func(in_prod)\n",
    "    print(inner_values)\n",
    "    print('\\nSum on rows:')\n",
    "    first_sum = np.sum(inner_values, axis = 1)\n",
    "    print(first_sum)\n",
    "    return first_sum.sum()\n",
    "    \n",
    "    \n",
    "inner_sum(phi)\n",
    "#def Z2N(f0, f1, phi):\n",
    "    "
   ]
  },
  {
   "cell_type": "code",
   "execution_count": null,
   "id": "3302af4b",
   "metadata": {},
   "outputs": [],
   "source": [
    "def inner_sum(vec_phi):\n",
    "    k = np.tile(np.arange(1, 10), (len(vec_phi), 1)).T\n",
    "    in_prod = k*vec_phi\n",
    "    inner_cos = np.cos(in_prod)\n",
    "    inn\n",
    "    print(inner_values)\n",
    "    print('\\nSum on rows:')\n",
    "    first_sum = np.sum(inner_values, axis = 1)\n",
    "    print(first_sum)\n",
    "    return first_sum.sum()"
   ]
  }
 ],
 "metadata": {
  "kernelspec": {
   "display_name": "Python 3",
   "language": "python",
   "name": "python3"
  },
  "language_info": {
   "codemirror_mode": {
    "name": "ipython",
    "version": 3
   },
   "file_extension": ".py",
   "mimetype": "text/x-python",
   "name": "python",
   "nbconvert_exporter": "python",
   "pygments_lexer": "ipython3",
   "version": "3.8.6"
  },
  "toc": {
   "base_numbering": 1,
   "nav_menu": {},
   "number_sections": true,
   "sideBar": true,
   "skip_h1_title": false,
   "title_cell": "Table of Contents",
   "title_sidebar": "Contents",
   "toc_cell": false,
   "toc_position": {},
   "toc_section_display": true,
   "toc_window_display": false
  }
 },
 "nbformat": 4,
 "nbformat_minor": 5
}
